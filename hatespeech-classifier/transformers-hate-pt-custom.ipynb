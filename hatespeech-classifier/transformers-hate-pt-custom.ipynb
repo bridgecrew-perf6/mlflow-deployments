{
 "cells": [
  {
   "cell_type": "code",
   "execution_count": null,
   "metadata": {},
   "outputs": [],
   "source": [
    "import mlflow\n",
    "from jobtools.arguments import file2namespace"
   ]
  },
  {
   "cell_type": "code",
   "execution_count": null,
   "metadata": {},
   "outputs": [],
   "source": [
    "from transformers import Trainer, TrainingArguments\n",
    "from hatedetection.hate_detection_classifier import HateDetectionClassifier\n",
    "from hatedetection.evaluation import compute_classification_metrics\n",
    "from hatedetection.text_datasets import ClassificationDataset\n",
    "from hatedetection.prep import load_examples"
   ]
  },
  {
   "cell_type": "code",
   "execution_count": null,
   "metadata": {},
   "outputs": [],
   "source": [
    "params = file2namespace('train.params.yml')\n",
    "input_dataset_path = 'data/train/*.csv'\n",
    "eval_dataset_path = 'data/eval/*.csv'"
   ]
  },
  {
   "cell_type": "code",
   "execution_count": null,
   "metadata": {},
   "outputs": [],
   "source": [
    "mlflow.set_experiment(\"hate-pt-speech-mlflow\")"
   ]
  },
  {
   "cell_type": "code",
   "execution_count": null,
   "metadata": {},
   "outputs": [],
   "source": [
    "classifier = HateDetectionClassifier()"
   ]
  },
  {
   "cell_type": "code",
   "execution_count": null,
   "metadata": {},
   "outputs": [],
   "source": [
    "classifier.build(baseline=params.model.baseline)"
   ]
  },
  {
   "cell_type": "code",
   "execution_count": null,
   "metadata": {},
   "outputs": [],
   "source": [
    "classifier.split_unique_words = params.data.preprocessing.split_unique_words\n",
    "classifier.split_seq_len = params.data.preprocessing.split_seq_len"
   ]
  },
  {
   "cell_type": "code",
   "execution_count": null,
   "metadata": {},
   "outputs": [],
   "source": [
    "examples_train, labels_train = load_examples(input_dataset_path)\n",
    "examples_eval, labels_eval = load_examples(eval_dataset_path)"
   ]
  },
  {
   "cell_type": "code",
   "execution_count": null,
   "metadata": {},
   "outputs": [],
   "source": [
    "train_dataset = ClassificationDataset(examples=examples_train,\n",
    "                                      labels=labels_train,\n",
    "                                      tokenizer=classifier.tokenizer)\n",
    "eval_dataset = ClassificationDataset(examples=examples_eval,\n",
    "                                     labels=labels_eval,\n",
    "                                     tokenizer=classifier.tokenizer)"
   ]
  },
  {
   "cell_type": "code",
   "execution_count": null,
   "metadata": {},
   "outputs": [],
   "source": [
    "training_args = TrainingArguments(**vars(params.trainer))"
   ]
  },
  {
   "cell_type": "code",
   "execution_count": null,
   "metadata": {},
   "outputs": [],
   "source": [
    "trainer = Trainer(\n",
    "        model=classifier.model,\n",
    "        args=training_args,\n",
    "        train_dataset=train_dataset,\n",
    "        eval_dataset=eval_dataset,\n",
    "        compute_metrics=compute_classification_metrics\n",
    "    )"
   ]
  },
  {
   "cell_type": "code",
   "execution_count": null,
   "metadata": {},
   "outputs": [],
   "source": [
    "history = trainer.train()"
   ]
  },
  {
   "cell_type": "code",
   "execution_count": null,
   "metadata": {},
   "outputs": [],
   "source": [
    "evaluation_metrics = trainer.evaluate()"
   ]
  },
  {
   "cell_type": "code",
   "execution_count": null,
   "metadata": {},
   "outputs": [],
   "source": [
    "saved_location=f\"{params.model.output_dir}/{params.model.name}\"\n",
    "artifacts = classifier.save_pretrained(saved_location)"
   ]
  },
  {
   "cell_type": "code",
   "execution_count": null,
   "metadata": {},
   "outputs": [],
   "source": [
    "from mlflow.models.signature import ModelSignature\n",
    "from mlflow.types.schema import Schema, ColSpec\n",
    "from mlflow.types import DataType\n",
    "\n",
    "input_schema = Schema([\n",
    "  ColSpec(DataType.string, \"text\"),\n",
    "])\n",
    "output_schema = Schema([\n",
    "  ColSpec(DataType.integer, \"hate\"),\n",
    "  ColSpec(DataType.double, \"confidence\"),\n",
    "])\n",
    "signature = ModelSignature(inputs=input_schema, outputs=output_schema)"
   ]
  },
  {
   "cell_type": "code",
   "execution_count": null,
   "metadata": {},
   "outputs": [],
   "source": [
    "mlflow.log_metrics(dict(filter(lambda item: item[1] is not None, evaluation_metrics.items())))\n",
    "mlflow.log_params(history.metrics)\n",
    "model_info = mlflow.pyfunc.log_model(artifact_path=params.model.name, \n",
    "                                     code_path=['./hatedetection'], \n",
    "                                     registered_model_name='hate-pt-speech',\n",
    "                                     python_model=classifier,\n",
    "                                     artifacts=artifacts,\n",
    "                                     signature=signature)"
   ]
  },
  {
   "cell_type": "code",
   "execution_count": null,
   "metadata": {},
   "outputs": [],
   "source": [
    "mlflow.pyfunc.log_model(\"classifier\", \n",
    "                        data_path=saved_location, \n",
    "                        code_path=[\"hatedetection\"], \n",
    "                        loader_module=\"hatedetection.hate_detection_classifier\", \n",
    "                        registered_model_name=\"hate-pt-speech\", \n",
    "                        signature=signature)"
   ]
  },
  {
   "cell_type": "code",
   "execution_count": null,
   "metadata": {},
   "outputs": [],
   "source": [
    "mlflow.end_run()"
   ]
  },
  {
   "cell_type": "code",
   "execution_count": null,
   "metadata": {},
   "outputs": [],
   "source": []
  }
 ],
 "metadata": {
  "language_info": {
   "name": "python"
  },
  "orig_nbformat": 4
 },
 "nbformat": 4,
 "nbformat_minor": 2
}
